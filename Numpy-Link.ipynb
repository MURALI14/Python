{
 "cells": [
  {
   "cell_type": "code",
   "execution_count": 6,
   "metadata": {},
   "outputs": [
    {
     "name": "stdout",
     "output_type": "stream",
     "text": [
      "[ 0.          0.50505051  1.01010101  1.51515152  2.02020202  2.52525253\n",
      "  3.03030303  3.53535354  4.04040404  4.54545455  5.05050505  5.55555556\n",
      "  6.06060606  6.56565657  7.07070707  7.57575758  8.08080808  8.58585859\n",
      "  9.09090909  9.5959596  10.1010101  10.60606061 11.11111111 11.61616162\n",
      " 12.12121212 12.62626263 13.13131313 13.63636364 14.14141414 14.64646465\n",
      " 15.15151515 15.65656566 16.16161616 16.66666667 17.17171717 17.67676768\n",
      " 18.18181818 18.68686869 19.19191919 19.6969697  20.2020202  20.70707071\n",
      " 21.21212121 21.71717172 22.22222222 22.72727273 23.23232323 23.73737374\n",
      " 24.24242424 24.74747475 25.25252525 25.75757576 26.26262626 26.76767677\n",
      " 27.27272727 27.77777778 28.28282828 28.78787879 29.29292929 29.7979798\n",
      " 30.3030303  30.80808081 31.31313131 31.81818182 32.32323232 32.82828283\n",
      " 33.33333333 33.83838384 34.34343434 34.84848485 35.35353535 35.85858586\n",
      " 36.36363636 36.86868687 37.37373737 37.87878788 38.38383838 38.88888889\n",
      " 39.39393939 39.8989899  40.4040404  40.90909091 41.41414141 41.91919192\n",
      " 42.42424242 42.92929293 43.43434343 43.93939394 44.44444444 44.94949495\n",
      " 45.45454545 45.95959596 46.46464646 46.96969697 47.47474747 47.97979798\n",
      " 48.48484848 48.98989899 49.49494949 50.        ]\n"
     ]
    }
   ],
   "source": [
    "import numpy as np\n",
    "import matplotlib.pyplot as plt\n",
    "x=np.linspace(0,50,100)\n",
    "print(x)"
   ]
  },
  {
   "cell_type": "code",
   "execution_count": 8,
   "metadata": {},
   "outputs": [
    {
     "data": {
      "image/png": "[encoded data removed]",
      "text/plain": [
       "<Figure size 432x288 with 1 Axes>"
      ]
     },
     "metadata": {
      "needs_background": "light"
     },
     "output_type": "display_data"
    }
   ],
   "source": [
    "def f(x): return x**2+2*x+1\n",
    "x=np.linspace(-7,5,100)\n",
    "y=f(x)\n",
    "plt.plot(x,y)\n",
    "plt.show()"
   ]
  },
  {
   "cell_type": "code",
   "execution_count": 10,
   "metadata": {},
   "outputs": [
    {
     "name": "stdout",
     "output_type": "stream",
     "text": [
      "[ 0  2  4  6  8 10 12 14 16 18 20 22 24 26 28 30 32 34 36 38 40 42 44 46\n",
      " 48 50 52 54 56 58 60 62 64 66 68 70 72 74 76 78 80 82 84 86 88 90 92 94\n",
      " 96 98]\n"
     ]
    }
   ],
   "source": [
    "x= np.arange(0,100,2)\n",
    "print(x)"
   ]
  },
  {
   "cell_type": "code",
   "execution_count": 12,
   "metadata": {},
   "outputs": [
    {
     "name": "stdout",
     "output_type": "stream",
     "text": [
      "[[8 0 2 4 5 1 7 3 5 6]\n",
      " [1 5 4 6 9 4 8 3 4 5]]\n"
     ]
    }
   ],
   "source": [
    "x=np.random.randint(0,10,(2,10))\n",
    "print(x)"
   ]
  },
  {
   "cell_type": "code",
   "execution_count": 13,
   "metadata": {},
   "outputs": [
    {
     "name": "stdout",
     "output_type": "stream",
     "text": [
      "[0.9498482  0.92816988 0.18790207 0.22791035 0.54244952]\n"
     ]
    }
   ],
   "source": [
    "x=np.random.rand(5)\n",
    "print(x)"
   ]
  },
  {
   "cell_type": "code",
   "execution_count": 15,
   "metadata": {},
   "outputs": [
    {
     "name": "stdout",
     "output_type": "stream",
     "text": [
      "[[0.59841389 0.96157796 0.96837689 0.3050923  0.87969223]\n",
      " [0.61828375 0.91647962 0.56690623 0.72848992 0.57793486]]\n"
     ]
    }
   ],
   "source": [
    "x=np.random.rand(2,5)\n",
    "print(x)"
   ]
  },
  {
   "cell_type": "code",
   "execution_count": 16,
   "metadata": {},
   "outputs": [
    {
     "data": {
      "text/plain": [
       "(array([  3.,  12.,  59., 189., 280., 254., 148.,  49.,   5.,   1.]),\n",
       " array([-3.73975489, -2.98095153, -2.22214818, -1.46334483, -0.70454147,\n",
       "         0.05426188,  0.81306524,  1.57186859,  2.33067194,  3.0894753 ,\n",
       "         3.84827865]),\n",
       " <a list of 10 Patch objects>)"
      ]
     },
     "execution_count": 16,
     "metadata": {},
     "output_type": "execute_result"
    },
    {
     "data": {
      "image/png": "[encoded data removed]",
      "text/plain": [
       "<Figure size 432x288 with 1 Axes>"
      ]
     },
     "metadata": {
      "needs_background": "light"
     },
     "output_type": "display_data"
    }
   ],
   "source": [
    "x=np.random.randn(1000)\n",
    "plt.hist(x)"
   ]
  },
  {
   "cell_type": "code",
   "execution_count": 20,
   "metadata": {},
   "outputs": [
    {
     "data": {
      "text/plain": [
       "array([2, 1, 1, 2, 1, 1, 2, 1, 1, 1, 1, 1, 1, 2, 1, 1, 1, 1, 1, 1])"
      ]
     },
     "execution_count": 20,
     "metadata": {},
     "output_type": "execute_result"
    }
   ],
   "source": [
    "x=[0,1,2]\n",
    "np.random.choice(x,20)\n",
    "np.random.choice(x,20,p=[0,.8,.2])"
   ]
  },
  {
   "cell_type": "code",
   "execution_count": 22,
   "metadata": {},
   "outputs": [
    {
     "name": "stdout",
     "output_type": "stream",
     "text": [
      "3 4\n"
     ]
    }
   ],
   "source": [
    "x=np.array([1,2,3,4])\n",
    "index=np.argmax(x)\n",
    "print(index,x[index])"
   ]
  },
  {
   "cell_type": "code",
   "execution_count": 27,
   "metadata": {},
   "outputs": [
    {
     "name": "stdout",
     "output_type": "stream",
     "text": [
      "[1 2]\n",
      "[5 6]\n",
      "[3 4]\n"
     ]
    }
   ],
   "source": [
    "a=np.array([1,2,3,4])\n",
    "b=np.array([3,4,5,6])\n",
    "print(np.setdiff1d(a,b))\n",
    "print(np.setdiff1d(b,a))\n",
    "print(np.intersect1d(a,b))"
   ]
  },
  {
   "cell_type": "code",
   "execution_count": 30,
   "metadata": {},
   "outputs": [
    {
     "data": {
      "text/plain": [
       "array(['Pass', 'Not Pass', 'Pass', 'Not Pass', 'Pass'], dtype='<U8')"
      ]
     },
     "execution_count": 30,
     "metadata": {},
     "output_type": "execute_result"
    }
   ],
   "source": [
    "score = np.array([85,40,68,59,61])\n",
    "np.where(score>60,'Pass','Not Pass')"
   ]
  },
  {
   "cell_type": "code",
   "execution_count": 35,
   "metadata": {},
   "outputs": [
    {
     "name": "stdout",
     "output_type": "stream",
     "text": [
      "(10,)\n",
      "[[ 1  2  3  4  5]\n",
      " [ 6  7  8  9 10]]\n",
      "[[ 1  2  3  4  5]\n",
      " [ 6  7  8  9 10]]\n"
     ]
    }
   ],
   "source": [
    "a=np.array([1,2,3,4,5,6,7,8,9,10])\n",
    "print(a.shape)\n",
    "print(a.reshape(2,5))\n",
    "print(a.reshape(-1,5))"
   ]
  },
  {
   "cell_type": "code",
   "execution_count": 40,
   "metadata": {},
   "outputs": [
    {
     "name": "stdout",
     "output_type": "stream",
     "text": [
      "[[1 2 3]\n",
      " [4 5 6]\n",
      " [7 8 9]] \n",
      "\n",
      "[1 2 3 4 5 6 7 8 9]\n"
     ]
    }
   ],
   "source": [
    "a=np.array([[1,2,3],[4,5,6],[7,8,9]])\n",
    "print(a)\n",
    "print(a.flatten())"
   ]
  },
  {
   "cell_type": "code",
   "execution_count": 48,
   "metadata": {},
   "outputs": [
    {
     "name": "stdout",
     "output_type": "stream",
     "text": [
      "[[ 1  2  3  4  5]\n",
      " [ 6  7  8  9 10]] \n",
      "\n",
      "[[ 1  6]\n",
      " [ 2  7]\n",
      " [ 3  8]\n",
      " [ 4  9]\n",
      " [ 5 10]] \n",
      "\n",
      "[ 1  2  3  4  5  6  7  8  9 10]\n"
     ]
    }
   ],
   "source": [
    "a=np.array([1,2,3,4,5])\n",
    "b=np.array([6,7,8,9,10])\n",
    "print(np.stack([a,b]),\"\\n\")\n",
    "print(np.stack([a,b],axis=1),\"\\n\")\n",
    "print(np.hstack((a,b)))"
   ]
  },
  {
   "cell_type": "code",
   "execution_count": 50,
   "metadata": {},
   "outputs": [
    {
     "name": "stdout",
     "output_type": "stream",
     "text": [
      "[1 4 5 5 5]\n"
     ]
    }
   ],
   "source": [
    "a=np.array([1,4,5,7,9])\n",
    "print(np.clip(a,1,5))"
   ]
  },
  {
   "cell_type": "code",
   "execution_count": null,
   "metadata": {},
   "outputs": [],
   "source": []
  }
 ],
 "metadata": {
  "kernelspec": {
   "display_name": "Python 3",
   "language": "python",
   "name": "python3"
  },
  "language_info": {
   "codemirror_mode": {
    "name": "ipython",
    "version": 3
   },
   "file_extension": ".py",
   "mimetype": "text/x-python",
   "name": "python",
   "nbconvert_exporter": "python",
   "pygments_lexer": "ipython3",
   "version": "3.8.3"
  }
 },
 "nbformat": 4,
 "nbformat_minor": 4
}
